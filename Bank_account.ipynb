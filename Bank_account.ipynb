{
  "nbformat": 4,
  "nbformat_minor": 0,
  "metadata": {
    "colab": {
      "provenance": [],
      "include_colab_link": true
    },
    "kernelspec": {
      "name": "python3",
      "display_name": "Python 3"
    },
    "language_info": {
      "name": "python"
    }
  },
  "cells": [
    {
      "cell_type": "markdown",
      "metadata": {
        "id": "view-in-github",
        "colab_type": "text"
      },
      "source": [
        "<a href=\"https://colab.research.google.com/github/kipriscilla/ist-30-team-2/blob/main/Bank_account.ipynb\" target=\"_parent\"><img src=\"https://colab.research.google.com/assets/colab-badge.svg\" alt=\"Open In Colab\"/></a>"
      ]
    },
    {
      "cell_type": "markdown",
      "source": [
        "Create a class called BankAccount in a file called bankaccount.py and upload to e-learning.\n",
        "\n",
        "1.\tThe class is initialized with the owner’s name (name), alphanumeric ID (ID), date of creation (creation_date), and balance. Ensure that creation_date is of type datetime.date. The date of creation can be the current date or a past date, but not a date in the future. If a creation date in the future is supplied as the creation_date value, the program must raise an exception of class Exception.  \n",
        "\n",
        "2.\tIt has 3 instance methods: deposit(amount), withdraw(amount), and view_balance().\n",
        "\n",
        "3.\tThere are two subclasses to BankAccount: a Savings account and a Checking account.\n",
        "•\tSavings: only allows withdrawals after 6 months has passed since the creation of the account. Does not allow overdrafts. For simplicity assume that each month is 30 days long.\n",
        "•\tChecking: allows overdraft, but adds a $30 penalty fee each time a withdrawal results in a negative balance.\n",
        "4.\tMake sure your names are precisely consistent with the following:\n",
        "•\tClass names - BankAccount, CheckingAccount, SavingsAccount\n",
        "•\tMethod Names - deposit(self, amount), withdraw(self, amount), view_balance(self)\n",
        "\n",
        "5.\tThe BankAccount class should have default values for all the arguments as follows: name: \"Rumbi Gwanz\", id: \"123\", creation_date: date.today(), balance: 0. • The creation_date should be of type datetime.date\n",
        "\n",
        "Write the following tests for the class in the same file:\n",
        "\n",
        "•\tA test called test_constructor for the BankAccount constructor, to ensure that date of creation throws the appropriate exception when invalid.\n",
        "•\tA test called test_savings_update for the SavingsAccount withdraw, to ensure it updates the balance correctly.\n",
        "•\tA test called test_savings_negative for the SavingsAccount withdraw, to ensure it doesn’t allow negative balances.\n",
        "•\tA test called test_savings_young_account for the SavingsAccount withdraw, to ensure that it doesn't allow withdrawals from accounts less than 6 months (180 days) old.\n",
        "•\tA test called test_checking_deposit for the CheckingAccount deposit that is expected to fail if a negative deposit amount is specified.\n",
        "•\tA test called test_checking_withdraw for the CheckingAccount withdraw, to ensure it updates the balance correctly.\n",
        "•\tA test called test_checking_overdraft for the CheckingAccount withdrawal, ensuring that the right balance is calculated after a withdrawal resulting in an overdraft.\n"
      ],
      "metadata": {
        "id": "KOXdABKqS-pK"
      }
    },
    {
      "cell_type": "code",
      "source": [
        "import datetime\n",
        "\n",
        "class BankAccount:\n",
        "    def __init__(self, name=\"Rumbi Gwanz\", ID=\"123\", creation_date=datetime.date.today(), balance=0):\n",
        "        if creation_date > datetime.date.today():\n",
        "            raise Exception(\"Creation date cannot be in the future\")\n",
        "        self.name = name\n",
        "        self.ID = ID\n",
        "        self.creation_date = creation_date\n",
        "        self.balance = balance\n",
        "\n",
        "    def deposit(self, amount):\n",
        "        self.balance += amount\n",
        "\n",
        "    def withdraw(self, amount):\n",
        "        self.balance -= amount\n",
        "\n",
        "    def view_balance(self):\n",
        "        return self.balance\n",
        "\n",
        "class SavingsAccount(BankAccount):\n",
        "    def __init__(self, name=\"Rumbi Gwanz\", ID=\"123\", creation_date=datetime.date.today(), balance=0):\n",
        "        super().__init__(name, ID, creation_date, balance)\n",
        "\n",
        "    def withdraw(self, amount):\n",
        "        if (datetime.date.today() - self.creation_date).days < 180:\n",
        "            raise Exception(\"Account is less than 6 months old\")\n",
        "        if self.balance - amount < 0:\n",
        "            raise Exception(\"Insufficient funds\")\n",
        "        self.balance -= amount\n",
        "\n",
        "class CheckingAccount(BankAccount):\n"
      ],
      "metadata": {
        "id": "30vbYG7VifgN"
      },
      "execution_count": null,
      "outputs": []
    },
    {
      "cell_type": "code",
      "source": [
        "# Importing necessary modules\n",
        "import datetime\n",
        "import unittest\n",
        "\n",
        "# Defining the BankAccount class\n",
        "class BankAccount:\n",
        "    def __init__(self, name=\"Rumbi Gwanz\", ID=\"123\", creation_date=datetime.date.today(), balance=0):\n",
        "        if creation_date > datetime.date.today():\n",
        "            raise Exception(\"Creation date cannot be in the future\")\n",
        "        self.name = name\n",
        "        self.ID = ID\n",
        "        self.creation_date = creation_date\n",
        "        self.balance = balance\n",
        "\n",
        "    def deposit(self, amount):\n",
        "        self.balance += amount\n",
        "\n",
        "    def withdraw(self, amount):\n",
        "        self.balance -= amount\n",
        "\n",
        "    def view_balance(self):\n",
        "        return self.balance\n",
        "\n",
        "# Defining the SavingsAccount subclass\n",
        "class SavingsAccount(BankAccount):\n",
        "    def __init__(self, name=\"Rumbi Gwanz\", ID=\"123\", creation_date=datetime.date.today(), balance=0):\n",
        "        super().__init__(name, ID, creation_date, balance)\n",
        "\n",
        "    def withdraw(self, amount):\n",
        "        if (datetime.date.today() - self.creation_date).days < 180:\n",
        "            raise Exception(\"Account is less than 6 months old\")\n",
        "        if self.balance - amount < 0:\n",
        "            raise Exception(\"Insufficient funds\")\n",
        "        self.balance -= amount\n",
        "\n",
        "# Defining the CheckingAccount subclass\n",
        "class CheckingAccount(BankAccount):\n",
        "    def __init__(self, name=\"Rumbi Gwanz\", ID=\"123\", creation_date=datetime.date.today(), balance=0):\n",
        "        super().__init__(name, ID, creation_date, balance)\n",
        "\n",
        "    def withdraw(self, amount):\n",
        "        if self.balance - amount < 0:\n",
        "            self.balance -= 30  # Penalty fee for overdraft\n",
        "        self.balance -= amount\n",
        "\n",
        "# Writing tests for the class\n",
        "class TestBankAccount(unittest.TestCase):\n",
        "    def test_constructor(self):\n",
        "        with self.assertRaises(Exception):\n",
        "            BankAccount(creation_date=datetime.date.today() + datetime.timedelta(days=1))\n",
        "\n",
        "    def test_savings_update(self):\n",
        "        account = SavingsAccount()\n",
        "        account.deposit(100)\n",
        "        account.withdraw(50)"
      ],
      "metadata": {
        "id": "4FJD05Nzi0jR"
      },
      "execution_count": null,
      "outputs": []
    },
    {
      "cell_type": "code",
      "source": [
        "import datetime\n",
        "import unittest\n",
        "\n",
        "# Defining the BankAccount class\n",
        "class BankAccount:\n",
        "    def __init__(self, name=\"Rumbi Gwanz\", ID=\"123\", creation_date=datetime.date.today(), balance=0):\n",
        "        if creation_date > datetime.date.today():\n",
        "            raise Exception(\"Creation date cannot be in the future\")\n",
        "        self.name = name\n",
        "        self.ID = ID\n",
        "        self.creation_date = creation_date\n",
        "        self.balance = balance\n",
        "\n",
        "    def deposit(self, amount):\n",
        "        self.balance += amount\n",
        "\n",
        "    def withdraw(self, amount):\n",
        "        self.balance -= amount\n",
        "\n",
        "    def view_balance(self):\n",
        "        return self.balance\n",
        "\n",
        "# Defining the SavingsAccount subclass\n",
        "class SavingsAccount(BankAccount):\n",
        "    def __init__(self, name=\"Rumbi Gwanz\", ID=\"123\", creation_date=datetime.date.today(), balance=0):\n",
        "        super().__init__(name, ID, creation_date, balance)\n",
        "\n",
        "    def withdraw(self, amount):\n",
        "        if (datetime.date.today() - self.creation_date).days < 180:\n",
        "            raise Exception(\"Account is less than 6 months old\")\n",
        "        if self.balance - amount < 0:\n",
        "            raise Exception(\"Insufficient funds\")\n",
        "        self.balance -= amount\n",
        "\n",
        "# Defining the CheckingAccount subclass\n",
        "class CheckingAccount(BankAccount):\n",
        "    def __init__(self, name=\"Rumbi Gwanz\", ID=\"123\", creation_date=datetime.date.today(), balance=0):\n",
        "        super().__init__(name, ID, creation_date, balance)\n",
        "\n",
        "    def withdraw(self, amount):\n",
        "        if self.balance - amount < 0:\n",
        "            self.balance -= 30  # Penalty fee for overdraft\n",
        "        self.balance -= amount\n",
        "\n",
        "# Writing tests for the class\n",
        "class TestBankAccount(unittest.TestCase):\n",
        "    def test_constructor(self):\n",
        "        # Test case for valid creation date\n",
        "        valid_creation_date = datetime.date.today() - datetime.timedelta(days=10)\n",
        "        try:\n",
        "            BankAccount(creation_date=valid_creation_date)\n",
        "        except Exception as e:\n",
        "            self.fail(\"Valid creation date raised an unexpected exception\")"
      ],
      "metadata": {
        "id": "omdywuo2kU4G"
      },
      "execution_count": null,
      "outputs": []
    },
    {
      "cell_type": "markdown",
      "source": [
        "You are tasked with designing a Student Management System (SMS) to streamline administrative tasks and facilitate efficient management of student records. Your SMS should include functionality to manage student information, track academic progress, and generate reports. Design a class structure for the SMS system, ensuring adherence to the following requirements:\n",
        "1.\tThe system should have a class named Student to represent individual students. Each student should have attributes for their name, student ID, date of enrollment, and current GPA.\n",
        "2.\tImplement three instance methods within the Student class:\n",
        "•\tupdate_personal_info(name, student_id): This method should allow administrators to update a student's name and student ID.\n",
        "•\tenroll_course(course): This method should enable students to enroll in a course.\n",
        "•\tupdate_gpa(gpa): This method should allow instructors to update a student's GPA.\n",
        "3.\tCreate two subclasses of the Student class: UndergraduateStudent and GraduateStudent.\n",
        "•\tUndergraduateStudent should have an additional attribute for the expected graduation year.\n",
        "•\tGraduateStudent should have attributes for thesis topic and advisor.\n",
        "4.\tEnsure consistency in naming conventions:\n",
        "•\tClass names: Student, UndergraduateStudent, GraduateStudent.\n",
        "•\tMethod names: update_personal_info(self, name, student_id), enroll_course(self, course), update_gpa(self, gpa).\n",
        "5.\tProvide default values for all arguments in the Student class as follows:\n",
        "•\tName: \"John Doe\"\n",
        "•\tStudent ID: \"000\"\n",
        "•\tDate of enrollment: Today's date\n",
        "•\tGPA: 0.0\n",
        "Design and implement the above requirements, and include tests to ensure the functionality of the implemented classes and methods. Specifically, design test cases to ensure the following:\n",
        "•\tThe constructor of the Student class raises an appropriate exception when an invalid date of enrollment is provided.\n",
        "•\tThe update_personal_info method in the Student class correctly updates the name and student ID.\n",
        "•\tThe enroll_course method allows students to enroll in courses.\n",
        "•\tThe update_gpa method updates the GPA of a student accurately.\n",
        "•\tSubclasses UndergraduateStudent and GraduateStudent inherit from the Student class correctly.\n",
        "•\tEach method within the Student class and its subclasses functions as expected.\n",
        "Provide a comprehensive and well-structured solution, including the class definitions, method implementations, and test cases to validate the functionality of the implemented system.\n"
      ],
      "metadata": {
        "id": "u-7G91puTDvC"
      }
    },
    {
      "cell_type": "markdown",
      "source": [
        "**ATTEMPT THIS**"
      ],
      "metadata": {
        "id": "bmm0GX8WV1P8"
      }
    }
  ]
}